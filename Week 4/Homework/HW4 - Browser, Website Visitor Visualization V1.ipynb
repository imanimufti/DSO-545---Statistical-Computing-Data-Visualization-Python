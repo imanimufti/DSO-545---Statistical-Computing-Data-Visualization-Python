{
 "cells": [
  {
   "cell_type": "markdown",
   "metadata": {},
   "source": [
    "# Subject: DSO 545 - Statistical Computing and Data Visualization\n",
    "## Student: Yura Shakhnazarian\n",
    "### Assignment: Homework 4"
   ]
  },
  {
   "cell_type": "code",
   "execution_count": 2,
   "metadata": {},
   "outputs": [],
   "source": [
    "import pandas as pd\n",
    "import numpy as np\n",
    "from matplotlib import pyplot as plt \n",
    "%matplotlib inline"
   ]
  },
  {
   "cell_type": "code",
   "execution_count": 8,
   "metadata": {},
   "outputs": [
    {
     "data": {
      "text/plain": [
       "50"
      ]
     },
     "execution_count": 8,
     "metadata": {},
     "output_type": "execute_result"
    }
   ],
   "source": [
    "len(chocolate.Browser)"
   ]
  },
  {
   "cell_type": "code",
   "execution_count": 3,
   "metadata": {},
   "outputs": [
    {
     "data": {
      "text/html": [
       "<div>\n",
       "<style scoped>\n",
       "    .dataframe tbody tr th:only-of-type {\n",
       "        vertical-align: middle;\n",
       "    }\n",
       "\n",
       "    .dataframe tbody tr th {\n",
       "        vertical-align: top;\n",
       "    }\n",
       "\n",
       "    .dataframe thead th {\n",
       "        text-align: right;\n",
       "    }\n",
       "</style>\n",
       "<table border=\"1\" class=\"dataframe\">\n",
       "  <thead>\n",
       "    <tr style=\"text-align: right;\">\n",
       "      <th></th>\n",
       "      <th>Customer</th>\n",
       "      <th>Day</th>\n",
       "      <th>Browser</th>\n",
       "      <th>Time</th>\n",
       "      <th>Pages_Viewed</th>\n",
       "      <th>Amount_Spent</th>\n",
       "    </tr>\n",
       "  </thead>\n",
       "  <tbody>\n",
       "    <tr>\n",
       "      <th>0</th>\n",
       "      <td>1</td>\n",
       "      <td>Mon</td>\n",
       "      <td>Chrome</td>\n",
       "      <td>12.0</td>\n",
       "      <td>4</td>\n",
       "      <td>54.52</td>\n",
       "    </tr>\n",
       "    <tr>\n",
       "      <th>1</th>\n",
       "      <td>2</td>\n",
       "      <td>Wed</td>\n",
       "      <td>Other</td>\n",
       "      <td>19.5</td>\n",
       "      <td>6</td>\n",
       "      <td>94.90</td>\n",
       "    </tr>\n",
       "    <tr>\n",
       "      <th>2</th>\n",
       "      <td>3</td>\n",
       "      <td>Mon</td>\n",
       "      <td>Chrome</td>\n",
       "      <td>8.5</td>\n",
       "      <td>4</td>\n",
       "      <td>26.68</td>\n",
       "    </tr>\n",
       "    <tr>\n",
       "      <th>3</th>\n",
       "      <td>4</td>\n",
       "      <td>Tue</td>\n",
       "      <td>Firefox</td>\n",
       "      <td>11.4</td>\n",
       "      <td>2</td>\n",
       "      <td>44.73</td>\n",
       "    </tr>\n",
       "    <tr>\n",
       "      <th>4</th>\n",
       "      <td>5</td>\n",
       "      <td>Wed</td>\n",
       "      <td>Chrome</td>\n",
       "      <td>11.3</td>\n",
       "      <td>4</td>\n",
       "      <td>66.27</td>\n",
       "    </tr>\n",
       "  </tbody>\n",
       "</table>\n",
       "</div>"
      ],
      "text/plain": [
       "   Customer  Day  Browser  Time  Pages_Viewed  Amount_Spent\n",
       "0         1  Mon   Chrome  12.0             4         54.52\n",
       "1         2  Wed    Other  19.5             6         94.90\n",
       "2         3  Mon   Chrome   8.5             4         26.68\n",
       "3         4  Tue  Firefox  11.4             2         44.73\n",
       "4         5  Wed   Chrome  11.3             4         66.27"
      ]
     },
     "execution_count": 3,
     "metadata": {},
     "output_type": "execute_result"
    }
   ],
   "source": [
    "chocolate = pd.read_csv(\"HeavenlyChocolates.csv\")\n",
    "chocolate.head()"
   ]
  },
  {
   "cell_type": "markdown",
   "metadata": {},
   "source": [
    "Question 1"
   ]
  },
  {
   "cell_type": "code",
   "execution_count": 3,
   "metadata": {},
   "outputs": [
    {
     "data": {
      "text/html": [
       "<div>\n",
       "<style scoped>\n",
       "    .dataframe tbody tr th:only-of-type {\n",
       "        vertical-align: middle;\n",
       "    }\n",
       "\n",
       "    .dataframe tbody tr th {\n",
       "        vertical-align: top;\n",
       "    }\n",
       "\n",
       "    .dataframe thead th {\n",
       "        text-align: right;\n",
       "    }\n",
       "</style>\n",
       "<table border=\"1\" class=\"dataframe\">\n",
       "  <thead>\n",
       "    <tr style=\"text-align: right;\">\n",
       "      <th></th>\n",
       "      <th>Browser</th>\n",
       "      <th>Count</th>\n",
       "    </tr>\n",
       "  </thead>\n",
       "  <tbody>\n",
       "    <tr>\n",
       "      <th>0</th>\n",
       "      <td>Chrome</td>\n",
       "      <td>27</td>\n",
       "    </tr>\n",
       "    <tr>\n",
       "      <th>1</th>\n",
       "      <td>Firefox</td>\n",
       "      <td>16</td>\n",
       "    </tr>\n",
       "    <tr>\n",
       "      <th>2</th>\n",
       "      <td>Other</td>\n",
       "      <td>7</td>\n",
       "    </tr>\n",
       "  </tbody>\n",
       "</table>\n",
       "</div>"
      ],
      "text/plain": [
       "   Browser  Count\n",
       "0   Chrome     27\n",
       "1  Firefox     16\n",
       "2    Other      7"
      ]
     },
     "execution_count": 3,
     "metadata": {},
     "output_type": "execute_result"
    }
   ],
   "source": [
    "# initialize empty lists, to which generated objects are later appended\n",
    "browser = []\n",
    "count = []\n",
    "# append unique browsers to first list\n",
    "for i in chocolate.Browser:\n",
    "    if i not in browser:\n",
    "        browser.append(i)\n",
    "# append counter for a unique browser to second list, resetting it after first iteration of an outer loop is done\n",
    "for j in browser: \n",
    "    counter = 0 \n",
    "    for k in range(len(chocolate.Browser)):\n",
    "        if j == chocolate.Browser[k]:\n",
    "            counter += 1\n",
    "    count.append(counter)\n",
    "# merge results of both lists into a data frame, sorting observations by descending order of count and giving proper indexation\n",
    "table = pd.DataFrame({\"Browser\": browser, \"Count\": count})\n",
    "table = table.sort_values(by = [\"Count\"], ascending = False)\n",
    "table = table.reset_index(drop = True)\n",
    "table"
   ]
  },
  {
   "cell_type": "markdown",
   "metadata": {},
   "source": [
    "Question 2"
   ]
  },
  {
   "cell_type": "code",
   "execution_count": 4,
   "metadata": {},
   "outputs": [
    {
     "data": {
      "image/png": "[encoded data removed]",
      "text/plain": [
       "<Figure size 720x432 with 1 Axes>"
      ]
     },
     "metadata": {
      "needs_background": "light"
     },
     "output_type": "display_data"
    }
   ],
   "source": [
    "plt.figure(figsize = (10,6))\n",
    "plt.bar(table.Browser, table.Count)\n",
    "ax = plt.gca()\n",
    "ax.set_yticks(range(0,31,10))\n",
    "plt.axhline(y = table.Count.mean(), linestyle = '--', color = 'red', label = 'Average line')\n",
    "plt.title(\"Browsers Used to Visit Heavenly Chocolate Website\", fontsize = 16)\n",
    "plt.ylabel(\"Count\", fontsize = 14)\n",
    "plt.legend(fontsize = 14)\n",
    "plt.show()"
   ]
  },
  {
   "cell_type": "markdown",
   "metadata": {},
   "source": [
    "Question 3"
   ]
  },
  {
   "cell_type": "code",
   "execution_count": 5,
   "metadata": {},
   "outputs": [],
   "source": [
    "chrome = chocolate[chocolate.Browser == 'Chrome']\n",
    "firefox = chocolate[chocolate.Browser == 'Firefox']"
   ]
  },
  {
   "cell_type": "code",
   "execution_count": 6,
   "metadata": {},
   "outputs": [
    {
     "data": {
      "image/png": "[encoded data removed]",
      "text/plain": [
       "<Figure size 720x432 with 1 Axes>"
      ]
     },
     "metadata": {
      "needs_background": "light"
     },
     "output_type": "display_data"
    }
   ],
   "source": [
    "plt.figure(figsize = (10,6))\n",
    "plt.scatter(chrome.Time, chrome.Amount_Spent, color = \"blue\", label = \"Chrome\")\n",
    "plt.scatter(firefox.Time, firefox.Amount_Spent, color = \"red\", label = \"Firefox\")\n",
    "ax1 = plt.gca()\n",
    "ax1.set_xticks(range(0,46,5))\n",
    "ax1.set_yticks(range(0,161,20))\n",
    "plt.axhline(y = chrome.Amount_Spent.mean(), linestyle = '--', linewidth = 0.7, color = 'blue', label = 'Average')\n",
    "plt.axhline(y = firefox.Amount_Spent.mean(), linestyle = '--', linewidth = 0.7, color = 'red', label = 'Average')\n",
    "plt.axvline(x = chrome.Time.mean(), linestyle = '--', linewidth = 0.7, color = 'blue')\n",
    "plt.axvline(x = firefox.Time.mean(), linestyle = '--', linewidth = 0.7, color = 'red')\n",
    "plt.title(\"Relationship between time spent browsing and amount Spent\", fontsize = 16)\n",
    "plt.xlabel(\"Time Spent\", fontsize = 14)\n",
    "plt.ylabel(\"Amount Spent\", fontsize = 14)\n",
    "plt.legend(loc = 4, fontsize = 14)\n",
    "plt.show()\n",
    "\n",
    "# Based on the graph below, one could state that users of Firefox spend, on average, more time browsing than those of Chrome.\n",
    "# Partially, this observation can explain why Firefox users account for greater average amounts spent, as there appears to be a\n",
    "# positive correlation between time and amount spent. "
   ]
  },
  {
   "cell_type": "markdown",
   "metadata": {},
   "source": [
    "Question 4"
   ]
  },
  {
   "cell_type": "code",
   "execution_count": 9,
   "metadata": {},
   "outputs": [],
   "source": [
    "# generate a list of weekdays in proper order to attain no. of counts for each day in a respectively proper order, too\n",
    "days = [\"Mon\", \"Tue\", \"Wed\", \"Thu\", \"Fri\", \"Sat\", \"Sun\"]\n",
    "# initialize empty lists, to which generated objects are later appended\n",
    "count1 = []\n",
    "count2 = []\n",
    "# append counters for unique days and browsers to respective empty lists, resetting them after first iteration of an outer loop \n",
    "# for both is done\n",
    "for j in days: \n",
    "    counter1 = 0 \n",
    "    counter2 = 0\n",
    "    for k in range(len(chocolate.Day)):\n",
    "        if j == chocolate.Day[k] and chocolate.Browser[k] == 'Chrome':\n",
    "            counter1 += 1\n",
    "        elif j == chocolate.Day[k] and chocolate.Browser[k] == 'Firefox':\n",
    "            counter2 += 1\n",
    "    count1.append(counter1)\n",
    "    count2.append(counter2)\n",
    "# merge results of both lists into a data frame\n",
    "tablechrome = pd.DataFrame({\"DaysOfWeek\": days, \"Count\": count1})\n",
    "tablefirefox = pd.DataFrame({\"DaysOfWeek\": days, \"Count\": count2})"
   ]
  },
  {
   "cell_type": "code",
   "execution_count": 10,
   "metadata": {},
   "outputs": [
    {
     "data": {
      "image/png": "[encoded data removed]",
      "text/plain": [
       "<Figure size 720x432 with 1 Axes>"
      ]
     },
     "metadata": {
      "needs_background": "light"
     },
     "output_type": "display_data"
    }
   ],
   "source": [
    "plt.figure(figsize = (10,6))\n",
    "pos = np.arange(len(set(chocolate.Day)))\n",
    "plt.bar(pos - 0.15, tablechrome.Count , width = 0.3, label = 'Chrome', color = 'blue')\n",
    "plt.bar(pos + 0.15, tablefirefox.Count, width = 0.3, label = 'Firefox', color = 'red')\n",
    "plt.xticks(pos, fontsize = 14) \n",
    "plt.yticks(fontsize = 14)\n",
    "ax2 = plt.gca() \n",
    "ax2.set_xticklabels(days)\n",
    "plt.title(\"Number of website visitors per day\", fontsize = 16)\n",
    "plt.ylabel(\"Count\", fontsize = 14)\n",
    "plt.legend(fontsize = 14)\n",
    "plt.show()"
   ]
  },
  {
   "cell_type": "code",
   "execution_count": 17,
   "metadata": {},
   "outputs": [
    {
     "data": {
      "text/plain": [
       "'2'"
      ]
     },
     "execution_count": 17,
     "metadata": {},
     "output_type": "execute_result"
    }
   ],
   "source": [
    "year = 1902\n",
    "year_str = str(year)\n",
    "year_str[-1]"
   ]
  },
  {
   "cell_type": "code",
   "execution_count": 18,
   "metadata": {},
   "outputs": [
    {
     "name": "stdout",
     "output_type": "stream",
     "text": [
      "Requirement already satisfied: jupyterthemes in c:\\users\\imani\\appdata\\local\\continuum\\anaconda3\\lib\\site-packages (0.20.0)\n",
      "Requirement already satisfied: matplotlib>=1.4.3 in c:\\users\\imani\\appdata\\local\\continuum\\anaconda3\\lib\\site-packages (from jupyterthemes) (3.1.0)\n",
      "Requirement already satisfied: jupyter-core in c:\\users\\imani\\appdata\\local\\continuum\\anaconda3\\lib\\site-packages (from jupyterthemes) (4.5.0)\n",
      "Requirement already satisfied: notebook>=5.6.0 in c:\\users\\imani\\appdata\\local\\continuum\\anaconda3\\lib\\site-packages (from jupyterthemes) (6.0.0)\n",
      "Requirement already satisfied: lesscpy>=0.11.2 in c:\\users\\imani\\appdata\\local\\continuum\\anaconda3\\lib\\site-packages (from jupyterthemes) (0.13.0)\n",
      "Requirement already satisfied: ipython>=5.4.1 in c:\\users\\imani\\appdata\\local\\continuum\\anaconda3\\lib\\site-packages (from jupyterthemes) (7.6.1)\n",
      "Requirement already satisfied: cycler>=0.10 in c:\\users\\imani\\appdata\\local\\continuum\\anaconda3\\lib\\site-packages (from matplotlib>=1.4.3->jupyterthemes) (0.10.0)\n",
      "Requirement already satisfied: kiwisolver>=1.0.1 in c:\\users\\imani\\appdata\\local\\continuum\\anaconda3\\lib\\site-packages (from matplotlib>=1.4.3->jupyterthemes) (1.1.0)\n",
      "Requirement already satisfied: pyparsing!=2.0.4,!=2.1.2,!=2.1.6,>=2.0.1 in c:\\users\\imani\\appdata\\local\\continuum\\anaconda3\\lib\\site-packages (from matplotlib>=1.4.3->jupyterthemes) (2.4.0)\n",
      "Requirement already satisfied: python-dateutil>=2.1 in c:\\users\\imani\\appdata\\local\\continuum\\anaconda3\\lib\\site-packages (from matplotlib>=1.4.3->jupyterthemes) (2.8.0)\n",
      "Requirement already satisfied: numpy>=1.11 in c:\\users\\imani\\appdata\\local\\continuum\\anaconda3\\lib\\site-packages (from matplotlib>=1.4.3->jupyterthemes) (1.16.4)\n",
      "Requirement already satisfied: traitlets in c:\\users\\imani\\appdata\\local\\continuum\\anaconda3\\lib\\site-packages (from jupyter-core->jupyterthemes) (4.3.2)\n",
      "Requirement already satisfied: jupyter-client>=5.3.1 in c:\\users\\imani\\appdata\\local\\continuum\\anaconda3\\lib\\site-packages (from notebook>=5.6.0->jupyterthemes) (5.3.1)\n",
      "Requirement already satisfied: Send2Trash in c:\\users\\imani\\appdata\\local\\continuum\\anaconda3\\lib\\site-packages (from notebook>=5.6.0->jupyterthemes) (1.5.0)\n",
      "Requirement already satisfied: prometheus-client in c:\\users\\imani\\appdata\\local\\continuum\\anaconda3\\lib\\site-packages (from notebook>=5.6.0->jupyterthemes) (0.7.1)\n",
      "Requirement already satisfied: nbconvert in c:\\users\\imani\\appdata\\local\\continuum\\anaconda3\\lib\\site-packages (from notebook>=5.6.0->jupyterthemes) (5.5.0)\n",
      "Requirement already satisfied: tornado>=5.0 in c:\\users\\imani\\appdata\\local\\continuum\\anaconda3\\lib\\site-packages (from notebook>=5.6.0->jupyterthemes) (6.0.3)\n",
      "Requirement already satisfied: terminado>=0.8.1 in c:\\users\\imani\\appdata\\local\\continuum\\anaconda3\\lib\\site-packages (from notebook>=5.6.0->jupyterthemes) (0.8.2)\n",
      "Requirement already satisfied: nbformat in c:\\users\\imani\\appdata\\local\\continuum\\anaconda3\\lib\\site-packages (from notebook>=5.6.0->jupyterthemes) (4.4.0)\n",
      "Requirement already satisfied: pyzmq>=17 in c:\\users\\imani\\appdata\\local\\continuum\\anaconda3\\lib\\site-packages (from notebook>=5.6.0->jupyterthemes) (18.0.0)\n",
      "Requirement already satisfied: jinja2 in c:\\users\\imani\\appdata\\local\\continuum\\anaconda3\\lib\\site-packages (from notebook>=5.6.0->jupyterthemes) (2.10.1)\n",
      "Requirement already satisfied: ipykernel in c:\\users\\imani\\appdata\\local\\continuum\\anaconda3\\lib\\site-packages (from notebook>=5.6.0->jupyterthemes) (5.1.1)\n",
      "Requirement already satisfied: ipython-genutils in c:\\users\\imani\\appdata\\local\\continuum\\anaconda3\\lib\\site-packages (from notebook>=5.6.0->jupyterthemes) (0.2.0)\n",
      "Requirement already satisfied: six in c:\\users\\imani\\appdata\\local\\continuum\\anaconda3\\lib\\site-packages (from lesscpy>=0.11.2->jupyterthemes) (1.12.0)\n",
      "Requirement already satisfied: ply in c:\\users\\imani\\appdata\\local\\continuum\\anaconda3\\lib\\site-packages (from lesscpy>=0.11.2->jupyterthemes) (3.11)\n",
      "Requirement already satisfied: backcall in c:\\users\\imani\\appdata\\local\\continuum\\anaconda3\\lib\\site-packages (from ipython>=5.4.1->jupyterthemes) (0.1.0)\n",
      "Requirement already satisfied: setuptools>=18.5 in c:\\users\\imani\\appdata\\local\\continuum\\anaconda3\\lib\\site-packages (from ipython>=5.4.1->jupyterthemes) (41.0.1)\n",
      "Requirement already satisfied: decorator in c:\\users\\imani\\appdata\\local\\continuum\\anaconda3\\lib\\site-packages (from ipython>=5.4.1->jupyterthemes) (4.4.0)\n",
      "Requirement already satisfied: pygments in c:\\users\\imani\\appdata\\local\\continuum\\anaconda3\\lib\\site-packages (from ipython>=5.4.1->jupyterthemes) (2.4.2)\n",
      "Requirement already satisfied: jedi>=0.10 in c:\\users\\imani\\appdata\\local\\continuum\\anaconda3\\lib\\site-packages (from ipython>=5.4.1->jupyterthemes) (0.13.3)\n",
      "Requirement already satisfied: pickleshare in c:\\users\\imani\\appdata\\local\\continuum\\anaconda3\\lib\\site-packages (from ipython>=5.4.1->jupyterthemes) (0.7.5)\n",
      "Requirement already satisfied: prompt-toolkit<2.1.0,>=2.0.0 in c:\\users\\imani\\appdata\\local\\continuum\\anaconda3\\lib\\site-packages (from ipython>=5.4.1->jupyterthemes) (2.0.9)\n",
      "Requirement already satisfied: colorama; sys_platform == \"win32\" in c:\\users\\imani\\appdata\\local\\continuum\\anaconda3\\lib\\site-packages (from ipython>=5.4.1->jupyterthemes) (0.4.1)\n",
      "Requirement already satisfied: mistune>=0.8.1 in c:\\users\\imani\\appdata\\local\\continuum\\anaconda3\\lib\\site-packages (from nbconvert->notebook>=5.6.0->jupyterthemes) (0.8.4)\n",
      "Requirement already satisfied: entrypoints>=0.2.2 in c:\\users\\imani\\appdata\\local\\continuum\\anaconda3\\lib\\site-packages (from nbconvert->notebook>=5.6.0->jupyterthemes) (0.3)\n",
      "Requirement already satisfied: defusedxml in c:\\users\\imani\\appdata\\local\\continuum\\anaconda3\\lib\\site-packages (from nbconvert->notebook>=5.6.0->jupyterthemes) (0.6.0)\n",
      "Requirement already satisfied: bleach in c:\\users\\imani\\appdata\\local\\continuum\\anaconda3\\lib\\site-packages (from nbconvert->notebook>=5.6.0->jupyterthemes) (3.1.0)\n",
      "Requirement already satisfied: testpath in c:\\users\\imani\\appdata\\local\\continuum\\anaconda3\\lib\\site-packages (from nbconvert->notebook>=5.6.0->jupyterthemes) (0.4.2)\n",
      "Requirement already satisfied: pandocfilters>=1.4.1 in c:\\users\\imani\\appdata\\local\\continuum\\anaconda3\\lib\\site-packages (from nbconvert->notebook>=5.6.0->jupyterthemes) (1.4.2)\n",
      "Requirement already satisfied: jsonschema!=2.5.0,>=2.4 in c:\\users\\imani\\appdata\\local\\continuum\\anaconda3\\lib\\site-packages (from nbformat->notebook>=5.6.0->jupyterthemes) (3.0.1)\n",
      "Requirement already satisfied: MarkupSafe>=0.23 in c:\\users\\imani\\appdata\\local\\continuum\\anaconda3\\lib\\site-packages (from jinja2->notebook>=5.6.0->jupyterthemes) (1.1.1)\n",
      "Requirement already satisfied: parso>=0.3.0 in c:\\users\\imani\\appdata\\local\\continuum\\anaconda3\\lib\\site-packages (from jedi>=0.10->ipython>=5.4.1->jupyterthemes) (0.5.0)\n",
      "Requirement already satisfied: wcwidth in c:\\users\\imani\\appdata\\local\\continuum\\anaconda3\\lib\\site-packages (from prompt-toolkit<2.1.0,>=2.0.0->ipython>=5.4.1->jupyterthemes) (0.1.7)\n",
      "Requirement already satisfied: webencodings in c:\\users\\imani\\appdata\\local\\continuum\\anaconda3\\lib\\site-packages (from bleach->nbconvert->notebook>=5.6.0->jupyterthemes) (0.5.1)\n",
      "Requirement already satisfied: attrs>=17.4.0 in c:\\users\\imani\\appdata\\local\\continuum\\anaconda3\\lib\\site-packages (from jsonschema!=2.5.0,>=2.4->nbformat->notebook>=5.6.0->jupyterthemes) (19.1.0)\n",
      "Requirement already satisfied: pyrsistent>=0.14.0 in c:\\users\\imani\\appdata\\local\\continuum\\anaconda3\\lib\\site-packages (from jsonschema!=2.5.0,>=2.4->nbformat->notebook>=5.6.0->jupyterthemes) (0.14.11)\n",
      "Note: you may need to restart the kernel to use updated packages.\n"
     ]
    }
   ],
   "source": [
    "pip install jupyterthemes"
   ]
  },
  {
   "cell_type": "code",
   "execution_count": 20,
   "metadata": {},
   "outputs": [
    {
     "ename": "NameError",
     "evalue": "name 'jt' is not defined",
     "output_type": "error",
     "traceback": [
      "\u001b[1;31m---------------------------------------------------------------------------\u001b[0m",
      "\u001b[1;31mNameError\u001b[0m                                 Traceback (most recent call last)",
      "\u001b[1;32m<ipython-input-20-46fef22f58e3>\u001b[0m in \u001b[0;36m<module>\u001b[1;34m\u001b[0m\n\u001b[1;32m----> 1\u001b[1;33m \u001b[0mjt\u001b[0m \u001b[1;33m-\u001b[0m\u001b[0mr\u001b[0m\u001b[1;33m\u001b[0m\u001b[1;33m\u001b[0m\u001b[0m\n\u001b[0m",
      "\u001b[1;31mNameError\u001b[0m: name 'jt' is not defined"
     ]
    }
   ],
   "source": [
    "jt -r"
   ]
  },
  {
   "cell_type": "code",
   "execution_count": null,
   "metadata": {},
   "outputs": [],
   "source": []
  }
 ],
 "metadata": {
  "kernelspec": {
   "display_name": "Python 3",
   "language": "python",
   "name": "python3"
  },
  "language_info": {
   "codemirror_mode": {
    "name": "ipython",
    "version": 3
   },
   "file_extension": ".py",
   "mimetype": "text/x-python",
   "name": "python",
   "nbconvert_exporter": "python",
   "pygments_lexer": "ipython3",
   "version": "3.7.3"
  }
 },
 "nbformat": 4,
 "nbformat_minor": 2
}
