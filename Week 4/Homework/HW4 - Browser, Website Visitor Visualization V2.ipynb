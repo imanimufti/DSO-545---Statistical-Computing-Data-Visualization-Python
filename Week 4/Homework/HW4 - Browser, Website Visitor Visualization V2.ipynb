{
 "cells": [
  {
   "cell_type": "code",
   "execution_count": 8,
   "metadata": {},
   "outputs": [],
   "source": [
    "import numpy as np\n",
    "import matplotlib.pyplot as plt\n",
    "import pandas as pd"
   ]
  },
  {
   "cell_type": "code",
   "execution_count": 9,
   "metadata": {},
   "outputs": [],
   "source": [
    "ch = pd.read_csv('HeavenlyChocolates.csv',sep = ',')"
   ]
  },
  {
   "cell_type": "code",
   "execution_count": 4,
   "metadata": {},
   "outputs": [],
   "source": [
    "#1 Using the techniques we have learned in class so far (i.e. DON’T use groupby() method),\n",
    "#create a dataframe that shows the number of visits to Heavenly Chocoloate’s website using different\n",
    "#browsers. Your output should be similar to the following table."
   ]
  },
  {
   "cell_type": "code",
   "execution_count": 18,
   "metadata": {},
   "outputs": [],
   "source": [
    "Chrome = ch.loc[ch.Browser =='Chrome']\n",
    "Other = ch.loc[ch.Browser =='Other']\n",
    "Firefox = ch.loc[ch.Browser =='Firefox']\n",
    "\n",
    "Chrome_count = Chrome.Customer.count()\n",
    "Other_count = Other.Customer.count()\n",
    "Firefox_count = Firefox.Customer.count()\n",
    "Browser = {'Browser':[\"Chrome\",\"Other\",\"Firefox\"],'Count':[Chrome_count,Other_count,Firefox_count]}\n",
    "df = pd.DataFrame(data = Browser)"
   ]
  },
  {
   "cell_type": "code",
   "execution_count": 19,
   "metadata": {},
   "outputs": [
    {
     "data": {
      "text/html": [
       "<div>\n",
       "<style scoped>\n",
       "    .dataframe tbody tr th:only-of-type {\n",
       "        vertical-align: middle;\n",
       "    }\n",
       "\n",
       "    .dataframe tbody tr th {\n",
       "        vertical-align: top;\n",
       "    }\n",
       "\n",
       "    .dataframe thead th {\n",
       "        text-align: right;\n",
       "    }\n",
       "</style>\n",
       "<table border=\"1\" class=\"dataframe\">\n",
       "  <thead>\n",
       "    <tr style=\"text-align: right;\">\n",
       "      <th></th>\n",
       "      <th>Browser</th>\n",
       "      <th>Count</th>\n",
       "    </tr>\n",
       "  </thead>\n",
       "  <tbody>\n",
       "    <tr>\n",
       "      <th>0</th>\n",
       "      <td>Chrome</td>\n",
       "      <td>27</td>\n",
       "    </tr>\n",
       "    <tr>\n",
       "      <th>1</th>\n",
       "      <td>Other</td>\n",
       "      <td>7</td>\n",
       "    </tr>\n",
       "    <tr>\n",
       "      <th>2</th>\n",
       "      <td>Firefox</td>\n",
       "      <td>16</td>\n",
       "    </tr>\n",
       "  </tbody>\n",
       "</table>\n",
       "</div>"
      ],
      "text/plain": [
       "   Browser  Count\n",
       "0   Chrome     27\n",
       "1    Other      7\n",
       "2  Firefox     16"
      ]
     },
     "execution_count": 19,
     "metadata": {},
     "output_type": "execute_result"
    }
   ],
   "source": [
    "df"
   ]
  },
  {
   "cell_type": "code",
   "execution_count": 83,
   "metadata": {},
   "outputs": [],
   "source": [
    "#2 Create a duplicate of the following graph to show which browser is used more by the\n",
    "# Heavenly Chocolate website visitors? The dashed line represents the mean of count visits for all browsers\n",
    "#in the dataset."
   ]
  },
  {
   "cell_type": "code",
   "execution_count": 65,
   "metadata": {},
   "outputs": [
    {
     "data": {
      "image/png": "[encoded data removed]",
      "text/plain": [
       "<Figure size 648x360 with 1 Axes>"
      ]
     },
     "metadata": {
      "needs_background": "light"
     },
     "output_type": "display_data"
    }
   ],
   "source": [
    "plt.figure(figsize=(9,5))\n",
    "pos = np.arange(len(df.Browser))\n",
    "barwidth = 0.3\n",
    "plt.bar(pos,df.Count, width = barwidth)\n",
    "average_line = plt.axhline(y=df.Count.mean(),color='red',label='Average Line',linestyle='--')\n",
    "plt.xticks(pos)\n",
    "plt.yticks(range(0,31,10))\n",
    "ax = plt.gca()\n",
    "ax.set_ylabel('Count')\n",
    "ax.set_xticklabels(df.Browser)\n",
    "ax.set_yticklabels([i for i in range(0,31,10)])\n",
    "ax.set_ylim([0,30])\n",
    "plt.title('Browsers Used to Visit Heavenly Chocolate Website')\n",
    "plt.legend()\n",
    "plt.show()\n"
   ]
  },
  {
   "cell_type": "code",
   "execution_count": null,
   "metadata": {},
   "outputs": [],
   "source": [
    "#3 Create an duplicate of the following scatterplot that shows the relationship between the\n",
    "#time spent browsing, and the amount spent buying using either Firefox or Chrome browswers. What\n",
    "#does this plot tell you about the company’s revenues using both channels?"
   ]
  },
  {
   "cell_type": "code",
   "execution_count": 66,
   "metadata": {},
   "outputs": [
    {
     "data": {
      "image/png": "[encoded data removed]",
      "text/plain": [
       "<Figure size 504x360 with 1 Axes>"
      ]
     },
     "metadata": {
      "needs_background": "light"
     },
     "output_type": "display_data"
    }
   ],
   "source": [
    "Chrome = ch[ch.Browser =='Chrome']\n",
    "Firefox = ch[ch.Browser =='Firefox']\n",
    "\n",
    "plt.figure(figsize=(7,5))\n",
    "\n",
    "plt.scatter(Chrome['Time'],Chrome['Amount_Spent'],label='Chrome',color='blue')\n",
    "plt.scatter(Firefox['Time'],Firefox['Amount_Spent'],label='Firefox',color='red')\n",
    "plt.axhline(y=Firefox.Amount_Spent.mean(),color='red',linestyle='--',linewidth=1)\n",
    "plt.axvline(x=Firefox.Time.mean(),color='red',linestyle='--',label='Firefox avg',linewidth=1)\n",
    "plt.axhline(y=Chrome.Amount_Spent.mean(),color='blue',label='Chrome avg',linestyle='--',linewidth=1)\n",
    "plt.axvline(x=Chrome.Time.mean(),color='blue',linestyle='--',linewidth=1)\n",
    "ax = plt.gca()\n",
    "ax.set_xlim([0,45])\n",
    "plt.xlabel('Time Spent')\n",
    "plt.ylabel('Amount Spent')\n",
    "plt.title('Relationship between time spent browsing and amount spent')\n",
    "plt.legend(loc = 4)\n",
    "plt.show()\n",
    "\n",
    "#Judging by the means of the two channels, customers who use Firefox tend to spend more time browsing & more money shopping\n",
    "# However, Since the customers of Heavenly Chocolates are predominantly using Chrome, we can conclude that more revenues\n",
    "# are generated through Chrome than Firefox\n",
    "# In addition, the plot tells us that there is, by and large, a positive (albeit mild) correlation between Time_Spent and Amount_Spent \n"
   ]
  },
  {
   "cell_type": "code",
   "execution_count": null,
   "metadata": {},
   "outputs": [],
   "source": [
    "#4 Create the following chart which shows the number of website visitors per day for people\n",
    "# using Chrome or Firefox."
   ]
  },
  {
   "cell_type": "code",
   "execution_count": 20,
   "metadata": {},
   "outputs": [],
   "source": [
    "Chrome_per_day = ch.loc[ch.Browser =='Chrome',['Day','Browser']]\n",
    "Firefox_per_day = ch.loc[ch.Browser =='Firefox',['Day','Browser']]"
   ]
  },
  {
   "cell_type": "code",
   "execution_count": 208,
   "metadata": {
    "scrolled": true
   },
   "outputs": [],
   "source": [
    "Chrome_days ={'Day':['Mon','Tue','Wed','Thu','Fri','Sat','Sun'],'Count':[0,0,0,0,0,0,0]}\n",
    "\n",
    "Firefox_days ={'Day':['Mon','Tue','Wed','Thu','Fri','Sat','Sun'],'Count':[0,0,0,0,0,0,0]}\n",
    "\n",
    "for i in Chrome_per_day['Day']:\n",
    "        if i == 'Mon':\n",
    "            Chrome_days['Count'][0]+=1\n",
    "        elif i == 'Tue':\n",
    "            Chrome_days['Count'][1]+=1\n",
    "        elif i == 'Wed':\n",
    "            Chrome_days['Count'][2]+=1\n",
    "        elif i == 'Thu':\n",
    "            Chrome_days['Count'][3]+=1\n",
    "        elif i == 'Fri':\n",
    "            Chrome_days['Count'][4]+=1\n",
    "        elif i == 'Sat':\n",
    "            Chrome_days['Count'][5]+=1\n",
    "        else:\n",
    "            Chrome_days['Count'][6]+=1\n",
    "            \n",
    "for i in Firefox_per_day['Day']:\n",
    "        if i == 'Mon':\n",
    "            Firefox_days['Count'][0]+=1\n",
    "        elif i == 'Tue':\n",
    "            Firefox_days['Count'][1]+=1\n",
    "        elif i == 'Wed':\n",
    "            Firefox_days['Count'][2]+=1\n",
    "        elif i == 'Thu':\n",
    "            Firefox_days['Count'][3]+=1\n",
    "        elif i == 'Fri':\n",
    "            Firefox_days['Count'][4]+=1\n",
    "        elif i == 'Sat':\n",
    "            Firefox_days['Count'][5]+=1\n",
    "        else:\n",
    "            Firefox_days['Count'][6]+=1\n",
    "            \n",
    "Chrome_df = pd.DataFrame(Chrome_days)\n",
    "Firefox_df = pd.DataFrame(Firefox_days)"
   ]
  },
  {
   "cell_type": "markdown",
   "metadata": {},
   "source": []
  },
  {
   "cell_type": "code",
   "execution_count": 209,
   "metadata": {},
   "outputs": [
    {
     "data": {
      "text/plain": [
       "<matplotlib.legend.Legend at 0x117b0fd68>"
      ]
     },
     "execution_count": 209,
     "metadata": {},
     "output_type": "execute_result"
    },
    {
     "data": {
      "image/png": "[encoded data removed]",
      "text/plain": [
       "<Figure size 648x360 with 1 Axes>"
      ]
     },
     "metadata": {
      "needs_background": "light"
     },
     "output_type": "display_data"
    }
   ],
   "source": [
    "plt.figure(figsize=(9,5))\n",
    "pos1 = np.arange(len(Chrome_df.Day))\n",
    "barwidth = 0.3\n",
    "plt.bar(pos1-0.3/2,Chrome_df.Count, label='Chrome',width = barwidth,color='blue')\n",
    "plt.bar(pos1+0.3/2,Firefox_df.Count, label='Firefox',width = barwidth,color='red')\n",
    "ax = plt.gca()\n",
    "ax.set_ylabel('Count')\n",
    "plt.xticks(pos1)\n",
    "ax.set_xticklabels(Firefox_df.Day)\n",
    "plt.title('Number of web visitors per day')\n",
    "plt.legend()"
   ]
  },
  {
   "cell_type": "code",
   "execution_count": null,
   "metadata": {},
   "outputs": [],
   "source": []
  },
  {
   "cell_type": "code",
   "execution_count": null,
   "metadata": {},
   "outputs": [],
   "source": []
  },
  {
   "cell_type": "code",
   "execution_count": null,
   "metadata": {},
   "outputs": [],
   "source": []
  },
  {
   "cell_type": "code",
   "execution_count": null,
   "metadata": {},
   "outputs": [],
   "source": []
  }
 ],
 "metadata": {
  "kernelspec": {
   "display_name": "Python 3",
   "language": "python",
   "name": "python3"
  },
  "language_info": {
   "codemirror_mode": {
    "name": "ipython",
    "version": 3
   },
   "file_extension": ".py",
   "mimetype": "text/x-python",
   "name": "python",
   "nbconvert_exporter": "python",
   "pygments_lexer": "ipython3",
   "version": "3.7.3"
  }
 },
 "nbformat": 4,
 "nbformat_minor": 2
}
